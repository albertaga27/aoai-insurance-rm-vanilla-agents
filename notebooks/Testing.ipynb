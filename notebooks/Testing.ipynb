{
 "cells": [
  {
   "cell_type": "code",
   "execution_count": 58,
   "metadata": {},
   "outputs": [],
   "source": [
    "import json\n",
    "import pandas as pd\n",
    "import requests\n",
    "import time\n",
    "from dotenv import load_dotenv\n",
    "\n",
    "load_dotenv()\n",
    "\n",
    "import sys\n",
    "import os\n",
    "\n",
    "# Get the parent directory\n",
    "parent_dir = os.path.abspath('..')\n",
    "\n",
    "# Add the parent directory to sys.path if it's not already there\n",
    "if parent_dir not in sys.path:\n",
    "    sys.path.insert(0, parent_dir)\n",
    "\n",
    "from azure.identity import DefaultAzureCredential\n",
    "from conversation_store import ConversationStore\n",
    "\n",
    "key = DefaultAzureCredential()\n",
    "db = ConversationStore(\n",
    "        url=os.getenv(\"COSMOSDB_ENDPOINT\"),\n",
    "        key=key,\n",
    "        database_name=os.getenv(\"COSMOSDB_DATABASE_NAME\"),\n",
    "        container_name=os.getenv(\"COSMOSDB_CONTAINER_USER_NAME\")\n",
    "    )\n"
   ]
  },
  {
   "cell_type": "code",
   "execution_count": 59,
   "metadata": {},
   "outputs": [],
   "source": [
    "#history = db.list_user_chats('rm9')\n",
    "#print(history)\n"
   ]
  },
  {
   "cell_type": "code",
   "execution_count": 60,
   "metadata": {},
   "outputs": [],
   "source": [
    "def get_agentic_response(row):\n",
    "    import requests  # Import within the function for safety in multi-threaded environments\n",
    "    \n",
    "    query = row['Queries']\n",
    "    \n",
    "    # Prepare the payload for the API call\n",
    "    payload = {\n",
    "        \"user_id\": \"rm9\",\n",
    "        \"message\": query\n",
    "    }\n",
    "\n",
    "\n",
    "    # Make the API call and handle exceptions\n",
    "    try:\n",
    "        response = requests.post('http://localhost:7071/api/http_trigger', json=payload)\n",
    "        \n",
    "        # Check if the response status is OK\n",
    "        if response.status_code == 200:\n",
    "            assistant_response = response.json()\n",
    "            \n",
    "            for message in reversed(assistant_response['reply']):\n",
    "                if message.get('role') == 'assistant':\n",
    "                    assistant_message = message\n",
    "                    break\n",
    "                \n",
    "            if assistant_message:\n",
    "                content = assistant_message.get('content', '')\n",
    "                name = assistant_message.get('name', '')\n",
    "                print(f\"response: agent = {name} content = {content}\")\n",
    "        else:\n",
    "            content = f\"Error: Received status code {response.status_code}\"\n",
    "            name = ''\n",
    "    except requests.exceptions.RequestException as e:\n",
    "        content = f\"Error: {e}\"\n",
    "        name = ''\n",
    "    except ValueError:\n",
    "        content = \"Error: Unable to parse the response from the server.\"\n",
    "        name = ''\n",
    "\n",
    "     # Add a delay (e.g., 5 second) between requests\n",
    "    time.sleep(5)\n",
    "\n",
    "    # Return the content and name as a Series\n",
    "    return pd.Series({'agentic_answer': content, 'agent_name': name})\n"
   ]
  },
  {
   "cell_type": "code",
   "execution_count": 61,
   "metadata": {},
   "outputs": [],
   "source": [
    "df = pd.read_csv('/home/aga/azureai/aoai-insurance-rm-vanilla-agents/travel_question_bank_answered_best_small.csv')\n",
    "\n",
    "# Display the DataFrame\n",
    "#print(df)\n",
    "\n",
    "# loop the 'Queries' field to test\n",
    "#for query in df['Queries']:\n",
    "#    print(query)\n"
   ]
  },
  {
   "cell_type": "code",
   "execution_count": null,
   "metadata": {},
   "outputs": [],
   "source": [
    "# Apply the function to each row\n",
    "df[['agentic_answer', 'agent_name']] = df.apply(get_agentic_response, axis=1)"
   ]
  },
  {
   "cell_type": "code",
   "execution_count": 63,
   "metadata": {},
   "outputs": [
    {
     "data": {
      "text/html": [
       "<div>\n",
       "<style scoped>\n",
       "    .dataframe tbody tr th:only-of-type {\n",
       "        vertical-align: middle;\n",
       "    }\n",
       "\n",
       "    .dataframe tbody tr th {\n",
       "        vertical-align: top;\n",
       "    }\n",
       "\n",
       "    .dataframe thead th {\n",
       "        text-align: right;\n",
       "    }\n",
       "</style>\n",
       "<table border=\"1\" class=\"dataframe\">\n",
       "  <thead>\n",
       "    <tr style=\"text-align: right;\">\n",
       "      <th></th>\n",
       "      <th>Queries</th>\n",
       "      <th>agentic_answer</th>\n",
       "      <th>agent_name</th>\n",
       "    </tr>\n",
       "  </thead>\n",
       "  <tbody>\n",
       "    <tr>\n",
       "      <th>0</th>\n",
       "      <td>What countries are is travel area 1, 2 and 3?</td>\n",
       "      <td>The information about specific travel areas an...</td>\n",
       "      <td>Product</td>\n",
       "    </tr>\n",
       "    <tr>\n",
       "      <th>1</th>\n",
       "      <td>Please let me know the full claim procedure an...</td>\n",
       "      <td>Here is the procedure for filing a personal ac...</td>\n",
       "      <td>Product</td>\n",
       "    </tr>\n",
       "    <tr>\n",
       "      <th>2</th>\n",
       "      <td>What are the activities that are covered durin...</td>\n",
       "      <td>Zurich Travel Insurance covers various activit...</td>\n",
       "      <td>Product</td>\n",
       "    </tr>\n",
       "  </tbody>\n",
       "</table>\n",
       "</div>"
      ],
      "text/plain": [
       "                                             Queries  \\\n",
       "0      What countries are is travel area 1, 2 and 3?   \n",
       "1  Please let me know the full claim procedure an...   \n",
       "2  What are the activities that are covered durin...   \n",
       "\n",
       "                                      agentic_answer agent_name  \n",
       "0  The information about specific travel areas an...    Product  \n",
       "1  Here is the procedure for filing a personal ac...    Product  \n",
       "2  Zurich Travel Insurance covers various activit...    Product  "
      ]
     },
     "execution_count": 63,
     "metadata": {},
     "output_type": "execute_result"
    }
   ],
   "source": [
    "df[['Queries', 'agentic_answer', 'agent_name']].head()"
   ]
  }
 ],
 "metadata": {
  "kernelspec": {
   "display_name": "Python 3",
   "language": "python",
   "name": "python3"
  },
  "language_info": {
   "codemirror_mode": {
    "name": "ipython",
    "version": 3
   },
   "file_extension": ".py",
   "mimetype": "text/x-python",
   "name": "python",
   "nbconvert_exporter": "python",
   "pygments_lexer": "ipython3",
   "version": "3.10.12"
  }
 },
 "nbformat": 4,
 "nbformat_minor": 2
}
